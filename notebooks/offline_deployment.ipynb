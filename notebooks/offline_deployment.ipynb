{
 "cells": [
  {
   "cell_type": "code",
   "execution_count": 86,
   "metadata": {},
   "outputs": [],
   "source": [
    "import pandas as pd\n",
    "import numpy as np\n",
    "import random\n",
    "\n",
    "import seaborn as sns\n",
    "from matplotlib import pyplot as pyplot\n",
    "%matplotlib inline\n",
    "\n",
    "import pickle\n",
    "from sklearn.feature_extraction import DictVectorizer"
   ]
  },
  {
   "cell_type": "code",
   "execution_count": null,
   "metadata": {},
   "outputs": [],
   "source": [
    "input_file = './tracked/test.csv'\n",
    "output_file = 'output/test.csv'"
   ]
  },
  {
   "cell_type": "code",
   "execution_count": 87,
   "metadata": {},
   "outputs": [],
   "source": [
    "def read_dataframe(filename: str):\n",
    "    df = pd.read_csv(filename)\n",
    "    return df"
   ]
  },
  {
   "cell_type": "code",
   "execution_count": 88,
   "metadata": {},
   "outputs": [],
   "source": [
    "def preprocessor(df: pd.DataFrame):\n",
    "\n",
    "    df['totalcharges'] = pd.to_numeric(df['totalcharges'], errors='coerce')\n",
    "    df['totalcharges'] = df['totalcharges'].fillna(0)\n",
    "    df['seniorcitizen'] = df['seniorcitizen'].replace({0: 'no', 1: 'yes'})\n",
    "\n",
    "    df.columns = df.columns.str.lower().str.replace(' ','_')\n",
    "    string_columns = list(df.dtypes[df.dtypes == 'object'].index)\n",
    "\n",
    "    for col in string_columns:\n",
    "        df[col] = df[col].str.lower().str.replace(' ','_')\n",
    "\n",
    "    return df"
   ]
  },
  {
   "cell_type": "code",
   "execution_count": 89,
   "metadata": {},
   "outputs": [],
   "source": [
    "with open('../notebooks/tracked/model.pkl', \"rb\") as f_in:\n",
    "    model = pickle.load(f_in)"
   ]
  },
  {
   "cell_type": "code",
   "execution_count": 82,
   "metadata": {},
   "outputs": [],
   "source": [
    "def prepareDictionaries(df: pd.DataFrame):\n",
    "    categorical = ['gender', 'seniorcitizen', 'partner', 'dependents',\n",
    "               'phoneservice', 'multiplelines', 'internetservice',\n",
    "               'onlinesecurity', 'onlinebackup', 'deviceprotection',\n",
    "               'techsupport', 'streamingtv', 'streamingmovies',\n",
    "               'contract', 'paperlessbilling', 'paymentmethod']\n",
    "    numerical = ['tenure', 'monthlycharges', 'totalcharges']\n",
    "\n",
    "    dicts = df[categorical + numerical].to_dict(orient='records')\n",
    "    return dicts"
   ]
  },
  {
   "cell_type": "code",
   "execution_count": 83,
   "metadata": {},
   "outputs": [],
   "source": [
    "def dictionaryVectorizer(dictDF: dict):\n",
    "    dv = DictVectorizer(sparse=False)\n",
    "    dv.fit(dictDF)\n",
    "    \n",
    "    return dv.transform(dictDF)"
   ]
  },
  {
   "cell_type": "code",
   "execution_count": 90,
   "metadata": {},
   "outputs": [],
   "source": [
    "df = read_dataframe()\n",
    "df = preprocessor(df)\n",
    "\n",
    "dicts = prepareDictionaries(df)\n",
    "\n",
    "model_input = dictionaryVectorizer(dicts)"
   ]
  },
  {
   "cell_type": "code",
   "execution_count": 91,
   "metadata": {},
   "outputs": [],
   "source": [
    "y_pred = model.predict(model_input)"
   ]
  },
  {
   "cell_type": "code",
   "execution_count": 94,
   "metadata": {},
   "outputs": [],
   "source": [
    "def generate_msisdn(n):\n",
    "    n = len(y_pred)\n",
    "    msisdn = []\n",
    "    for i in range(n):\n",
    "        msisdn.append('2517' + str(random.randint(100000000, 999999999)))\n",
    "\n",
    "    return msisdn"
   ]
  },
  {
   "cell_type": "code",
   "execution_count": 98,
   "metadata": {},
   "outputs": [],
   "source": [
    "df_result = pd.DataFrame(input_file)"
   ]
  },
  {
   "cell_type": "code",
   "execution_count": 99,
   "metadata": {},
   "outputs": [],
   "source": [
    "df_result['msisdn'] = generate_msisdn(len(y_pred))\n",
    "df_result['gender'] = df['gender']\n",
    "df_result['tenure'] = df['tenure']\n",
    "df_result['totalcharges'] = df['totalcharges']\n",
    "df_result['monthlycharges'] = df['monthlycharges']\n",
    "df_result['churn'] = y_pred"
   ]
  },
  {
   "cell_type": "code",
   "execution_count": 104,
   "metadata": {},
   "outputs": [
    {
     "data": {
      "text/html": [
       "<div>\n",
       "<style scoped>\n",
       "    .dataframe tbody tr th:only-of-type {\n",
       "        vertical-align: middle;\n",
       "    }\n",
       "\n",
       "    .dataframe tbody tr th {\n",
       "        vertical-align: top;\n",
       "    }\n",
       "\n",
       "    .dataframe thead th {\n",
       "        text-align: right;\n",
       "    }\n",
       "</style>\n",
       "<table border=\"1\" class=\"dataframe\">\n",
       "  <thead>\n",
       "    <tr style=\"text-align: right;\">\n",
       "      <th></th>\n",
       "      <th>msisdn</th>\n",
       "      <th>gender</th>\n",
       "      <th>tenure</th>\n",
       "      <th>totalcharges</th>\n",
       "      <th>monthlycharges</th>\n",
       "      <th>churn</th>\n",
       "    </tr>\n",
       "  </thead>\n",
       "  <tbody>\n",
       "    <tr>\n",
       "      <th>0</th>\n",
       "      <td>2517817157409</td>\n",
       "      <td>female</td>\n",
       "      <td>41</td>\n",
       "      <td>3320.75</td>\n",
       "      <td>79.85</td>\n",
       "      <td>0</td>\n",
       "    </tr>\n",
       "    <tr>\n",
       "      <th>1</th>\n",
       "      <td>2517183813093</td>\n",
       "      <td>female</td>\n",
       "      <td>66</td>\n",
       "      <td>6471.85</td>\n",
       "      <td>102.40</td>\n",
       "      <td>0</td>\n",
       "    </tr>\n",
       "    <tr>\n",
       "      <th>2</th>\n",
       "      <td>2517231995574</td>\n",
       "      <td>female</td>\n",
       "      <td>12</td>\n",
       "      <td>524.35</td>\n",
       "      <td>45.00</td>\n",
       "      <td>0</td>\n",
       "    </tr>\n",
       "    <tr>\n",
       "      <th>3</th>\n",
       "      <td>2517827538847</td>\n",
       "      <td>female</td>\n",
       "      <td>5</td>\n",
       "      <td>249.95</td>\n",
       "      <td>50.60</td>\n",
       "      <td>0</td>\n",
       "    </tr>\n",
       "    <tr>\n",
       "      <th>4</th>\n",
       "      <td>2517438899251</td>\n",
       "      <td>female</td>\n",
       "      <td>10</td>\n",
       "      <td>660.05</td>\n",
       "      <td>65.90</td>\n",
       "      <td>0</td>\n",
       "    </tr>\n",
       "  </tbody>\n",
       "</table>\n",
       "</div>"
      ],
      "text/plain": [
       "          msisdn  gender  tenure  totalcharges  monthlycharges  churn\n",
       "0  2517817157409  female      41       3320.75           79.85      0\n",
       "1  2517183813093  female      66       6471.85          102.40      0\n",
       "2  2517231995574  female      12        524.35           45.00      0\n",
       "3  2517827538847  female       5        249.95           50.60      0\n",
       "4  2517438899251  female      10        660.05           65.90      0"
      ]
     },
     "execution_count": 104,
     "metadata": {},
     "output_type": "execute_result"
    }
   ],
   "source": [
    "df_result.head()"
   ]
  },
  {
   "cell_type": "code",
   "execution_count": 105,
   "metadata": {},
   "outputs": [],
   "source": [
    "!mkdir output"
   ]
  },
  {
   "cell_type": "code",
   "execution_count": 106,
   "metadata": {},
   "outputs": [],
   "source": [
    "df_result.to_csv('output/test.csv')"
   ]
  },
  {
   "cell_type": "code",
   "execution_count": 107,
   "metadata": {},
   "outputs": [],
   "source": [
    "# Model Versions Also Must be Delivered With The Data Which is Shipped to The Data Base"
   ]
  },
  {
   "cell_type": "code",
   "execution_count": null,
   "metadata": {},
   "outputs": [],
   "source": [
    "def load_model(run_id):\n",
    "    logged_model = 'Path for the specific ML model and RUNID while assuming experiments will be tracked by MLflow'\n",
    "    model = model.pyfunc.load_model(logged_model)\n",
    "    return model"
   ]
  },
  {
   "cell_type": "code",
   "execution_count": null,
   "metadata": {},
   "outputs": [],
   "source": [
    "def apply_model(input_file, model, run_id, output_file):\n",
    "    df = read_dataframe(input_file)\n",
    "    dicts = prepareDictionaries(df)\n",
    "    "
   ]
  }
 ],
 "metadata": {
  "kernelspec": {
   "display_name": "Python 3",
   "language": "python",
   "name": "python3"
  },
  "language_info": {
   "codemirror_mode": {
    "name": "ipython",
    "version": 3
   },
   "file_extension": ".py",
   "mimetype": "text/x-python",
   "name": "python",
   "nbconvert_exporter": "python",
   "pygments_lexer": "ipython3",
   "version": "3.9.16"
  },
  "orig_nbformat": 4
 },
 "nbformat": 4,
 "nbformat_minor": 2
}
