{
 "cells": [
  {
   "cell_type": "code",
   "execution_count": 29,
   "metadata": {},
   "outputs": [],
   "source": [
    "import pandas as pd\n",
    "import numpy as np\n",
    "\n",
    "import pickle\n",
    "import seaborn as sns\n",
    "from sklearn.model_selection import train_test_split\n",
    "from sklearn.feature_extraction import DictVectorizer\n",
    "import joblib\n",
    "from matplotlib import pyplot as plt\n",
    "%matplotlib inline"
   ]
  },
  {
   "cell_type": "code",
   "execution_count": 30,
   "metadata": {},
   "outputs": [],
   "source": [
    "loaded_model = joblib.load(\"./models/logistic_reg.bin\")"
   ]
  },
  {
   "cell_type": "code",
   "execution_count": 31,
   "metadata": {},
   "outputs": [
    {
     "data": {
      "text/plain": [
       "(DictVectorizer(sparse=False),\n",
       " GridSearchCV(cv=5,\n",
       "              estimator=LogisticRegression(class_weight='balanced',\n",
       "                                           random_state=1, solver='liblinear'),\n",
       "              param_grid={'C': [0.001, 0.01, 0.1, 1],\n",
       "                          'fit_intercept': [True, False]},\n",
       "              scoring='roc_auc'))"
      ]
     },
     "execution_count": 31,
     "metadata": {},
     "output_type": "execute_result"
    }
   ],
   "source": [
    "loaded_model"
   ]
  },
  {
   "cell_type": "code",
   "execution_count": 32,
   "metadata": {},
   "outputs": [],
   "source": [
    "def read_dataframe(filename: str):\n",
    "    df = pd.read_csv(filename)\n",
    "\n",
    "    df['TotalCharges'] = pd.to_numeric(df['TotalCharges'], errors='coerce')\n",
    "    df['TotalCharges'] = df['TotalCharges'].fillna(0)\n",
    "\n",
    "    df.columns = df.columns.str.lower().str.replace(' ','_')\n",
    "    string_columns = list(df.dtypes[df.dtypes == 'object'].index)\n",
    "\n",
    "    for col in string_columns:\n",
    "        df[col] = df[col].str.lower().str.replace(' ', '_')\n",
    "\n",
    "    df.churn = (df.churn == 'yes').astype(int)\n",
    "\n",
    "    return df"
   ]
  },
  {
   "cell_type": "code",
   "execution_count": 33,
   "metadata": {},
   "outputs": [],
   "source": [
    "def prepare_dictionaries(df: pd.DataFrame):\n",
    "\n",
    "    categorical = ['gender', 'seniorcitizen', 'partner', 'dependents','phoneservice', 'multiplelines', 'internetservice','onlinesecurity', 'onlinebackup', 'deviceprotection','techsupport', 'streamingtv', 'streamingmovies','contract', 'paperlessbilling', 'paymentmethod']\n",
    "    numerical = ['tenure', 'monthlycharges', 'totalcharges']\n",
    "\n",
    "    dicts = df[categorical + numerical].to_dict(orient='records')\n",
    "    return dicts"
   ]
  },
  {
   "cell_type": "code",
   "execution_count": 34,
   "metadata": {},
   "outputs": [
    {
     "ename": "AttributeError",
     "evalue": "'tuple' object has no attribute 'predict'",
     "output_type": "error",
     "traceback": [
      "\u001b[1;31m---------------------------------------------------------------------------\u001b[0m",
      "\u001b[1;31mAttributeError\u001b[0m                            Traceback (most recent call last)",
      "Cell \u001b[1;32mIn[34], line 4\u001b[0m\n\u001b[0;32m      1\u001b[0m df \u001b[39m=\u001b[39m read_dataframe(\u001b[39m\"\u001b[39m\u001b[39m./data/WA_Fn-UseC_-Telco-Customer-Churn.csv\u001b[39m\u001b[39m\"\u001b[39m)\n\u001b[0;32m      3\u001b[0m dicts \u001b[39m=\u001b[39m prepare_dictionaries(df)\n\u001b[1;32m----> 4\u001b[0m y_pred \u001b[39m=\u001b[39m loaded_model\u001b[39m.\u001b[39;49mpredict(dicts)\n",
      "\u001b[1;31mAttributeError\u001b[0m: 'tuple' object has no attribute 'predict'"
     ]
    }
   ],
   "source": [
    "df = read_dataframe(\"./data/WA_Fn-UseC_-Telco-Customer-Churn.csv\")\n",
    "\n",
    "dicts = prepare_dictionaries(df)\n",
    "y_pred = loaded_model.predict(dicts)"
   ]
  },
  {
   "cell_type": "code",
   "execution_count": 42,
   "metadata": {},
   "outputs": [],
   "source": [
    "X_train = dv.transform(train_dict)"
   ]
  },
  {
   "cell_type": "code",
   "execution_count": 43,
   "metadata": {},
   "outputs": [
    {
     "data": {
      "text/plain": [
       "(3774, 45)"
      ]
     },
     "execution_count": 43,
     "metadata": {},
     "output_type": "execute_result"
    }
   ],
   "source": [
    "X_train.shape"
   ]
  },
  {
   "cell_type": "code",
   "execution_count": 44,
   "metadata": {},
   "outputs": [
    {
     "data": {
      "text/plain": [
       "array(['contract=month-to-month', 'contract=one_year',\n",
       "       'contract=two_year', 'dependents=no', 'dependents=yes',\n",
       "       'deviceprotection=no', 'deviceprotection=no_internet_service',\n",
       "       'deviceprotection=yes', 'gender=female', 'gender=male',\n",
       "       'internetservice=dsl', 'internetservice=fiber_optic',\n",
       "       'internetservice=no', 'monthlycharges', 'multiplelines=no',\n",
       "       'multiplelines=no_phone_service', 'multiplelines=yes',\n",
       "       'onlinebackup=no', 'onlinebackup=no_internet_service',\n",
       "       'onlinebackup=yes', 'onlinesecurity=no',\n",
       "       'onlinesecurity=no_internet_service', 'onlinesecurity=yes',\n",
       "       'paperlessbilling=no', 'paperlessbilling=yes', 'partner=no',\n",
       "       'partner=yes', 'paymentmethod=bank_transfer_(automatic)',\n",
       "       'paymentmethod=credit_card_(automatic)',\n",
       "       'paymentmethod=electronic_check', 'paymentmethod=mailed_check',\n",
       "       'phoneservice=no', 'phoneservice=yes', 'seniorcitizen',\n",
       "       'streamingmovies=no', 'streamingmovies=no_internet_service',\n",
       "       'streamingmovies=yes', 'streamingtv=no',\n",
       "       'streamingtv=no_internet_service', 'streamingtv=yes',\n",
       "       'techsupport=no', 'techsupport=no_internet_service',\n",
       "       'techsupport=yes', 'tenure', 'totalcharges'], dtype=object)"
      ]
     },
     "execution_count": 44,
     "metadata": {},
     "output_type": "execute_result"
    }
   ],
   "source": [
    "dv.get_feature_names_out()"
   ]
  },
  {
   "attachments": {},
   "cell_type": "markdown",
   "metadata": {},
   "source": [
    "Modelling: Training"
   ]
  },
  {
   "attachments": {},
   "cell_type": "markdown",
   "metadata": {},
   "source": [
    "I have built 3 prototype models using Grid Search and 5 fold cross validation for hyperparameter tuning.\n",
    "\n",
    "1) Logistic Regression\n",
    "2) Decision Tree\n",
    "3) Random Forest\n",
    "4) Gradient Boosted Classifier(GBC)"
   ]
  },
  {
   "cell_type": "code",
   "execution_count": 45,
   "metadata": {},
   "outputs": [],
   "source": [
    "# Define a machine learning pipline with k-fold crossvalidation and gridsearch\n",
    "import time\n",
    "from sklearn.model_selection import GridSearchCV\n",
    "\n",
    "\n",
    "def model_pipeline(model, param_grid, x_train, Y_train):\n",
    "\n",
    "    \"\"\"\n",
    "    Pipeline to train sklearn model using k-fold\n",
    "    cross validation and grid search\n",
    "\n",
    "    returns the best model and results for all\n",
    "    traning runs\n",
    "\n",
    "    parameters -\n",
    "    model: an sklearn machine learning model\n",
    "    param_gird: search space for grid search as dict\n",
    "\n",
    "    \"\"\"\n",
    "\n",
    "    # Initialisa model with GridSearchCV or just GridSearch\n",
    "\n",
    "    Tuned_Model = GridSearchCV(\n",
    "        estimator=model, param_grid=param_grid, scoring=\"roc_auc\", cv=5\n",
    "    )\n",
    "\n",
    "    # Fit model & Time the process for training the model\n",
    "    print(\"Training Model\")\n",
    "    start_time = time.process_time()\n",
    "\n",
    "    Tuned_Model.fit(x_train, Y_train)\n",
    "\n",
    "    print(\"Finished training model\")\n",
    "\n",
    "    # End of fit time\n",
    "    print(time.process_time() - start_time, \"Seconds\")\n",
    "\n",
    "    return Tuned_Model, pd.DataFrame(Tuned_Model.cv_results_)"
   ]
  },
  {
   "cell_type": "code",
   "execution_count": 56,
   "metadata": {},
   "outputs": [
    {
     "name": "stdout",
     "output_type": "stream",
     "text": [
      "Training Model\n",
      "Finished training model\n",
      "0.171875 Seconds\n"
     ]
    },
    {
     "data": {
      "text/html": [
       "<div>\n",
       "<style scoped>\n",
       "    .dataframe tbody tr th:only-of-type {\n",
       "        vertical-align: middle;\n",
       "    }\n",
       "\n",
       "    .dataframe tbody tr th {\n",
       "        vertical-align: top;\n",
       "    }\n",
       "\n",
       "    .dataframe thead th {\n",
       "        text-align: right;\n",
       "    }\n",
       "</style>\n",
       "<table border=\"1\" class=\"dataframe\">\n",
       "  <thead>\n",
       "    <tr style=\"text-align: right;\">\n",
       "      <th></th>\n",
       "      <th>mean_fit_time</th>\n",
       "      <th>std_fit_time</th>\n",
       "      <th>mean_score_time</th>\n",
       "      <th>std_score_time</th>\n",
       "      <th>param_C</th>\n",
       "      <th>param_fit_intercept</th>\n",
       "      <th>params</th>\n",
       "      <th>split0_test_score</th>\n",
       "      <th>split1_test_score</th>\n",
       "      <th>split2_test_score</th>\n",
       "      <th>split3_test_score</th>\n",
       "      <th>split4_test_score</th>\n",
       "      <th>mean_test_score</th>\n",
       "      <th>std_test_score</th>\n",
       "      <th>rank_test_score</th>\n",
       "    </tr>\n",
       "  </thead>\n",
       "  <tbody>\n",
       "    <tr>\n",
       "      <th>0</th>\n",
       "      <td>0.013607</td>\n",
       "      <td>0.001829</td>\n",
       "      <td>0.002797</td>\n",
       "      <td>0.000739</td>\n",
       "      <td>0.001</td>\n",
       "      <td>True</td>\n",
       "      <td>{'C': 0.001, 'fit_intercept': True}</td>\n",
       "      <td>0.815746</td>\n",
       "      <td>0.849100</td>\n",
       "      <td>0.827921</td>\n",
       "      <td>0.819497</td>\n",
       "      <td>0.817785</td>\n",
       "      <td>0.826010</td>\n",
       "      <td>0.012265</td>\n",
       "      <td>8</td>\n",
       "    </tr>\n",
       "    <tr>\n",
       "      <th>1</th>\n",
       "      <td>0.013919</td>\n",
       "      <td>0.001354</td>\n",
       "      <td>0.002396</td>\n",
       "      <td>0.000486</td>\n",
       "      <td>0.001</td>\n",
       "      <td>False</td>\n",
       "      <td>{'C': 0.001, 'fit_intercept': False}</td>\n",
       "      <td>0.815887</td>\n",
       "      <td>0.849091</td>\n",
       "      <td>0.827947</td>\n",
       "      <td>0.819489</td>\n",
       "      <td>0.817706</td>\n",
       "      <td>0.826024</td>\n",
       "      <td>0.012251</td>\n",
       "      <td>7</td>\n",
       "    </tr>\n",
       "    <tr>\n",
       "      <th>2</th>\n",
       "      <td>0.017669</td>\n",
       "      <td>0.002696</td>\n",
       "      <td>0.003090</td>\n",
       "      <td>0.000935</td>\n",
       "      <td>0.01</td>\n",
       "      <td>True</td>\n",
       "      <td>{'C': 0.01, 'fit_intercept': True}</td>\n",
       "      <td>0.831605</td>\n",
       "      <td>0.856884</td>\n",
       "      <td>0.847941</td>\n",
       "      <td>0.840840</td>\n",
       "      <td>0.834707</td>\n",
       "      <td>0.842395</td>\n",
       "      <td>0.009150</td>\n",
       "      <td>5</td>\n",
       "    </tr>\n",
       "    <tr>\n",
       "      <th>3</th>\n",
       "      <td>0.026632</td>\n",
       "      <td>0.010461</td>\n",
       "      <td>0.006587</td>\n",
       "      <td>0.007049</td>\n",
       "      <td>0.01</td>\n",
       "      <td>False</td>\n",
       "      <td>{'C': 0.01, 'fit_intercept': False}</td>\n",
       "      <td>0.831605</td>\n",
       "      <td>0.856893</td>\n",
       "      <td>0.847994</td>\n",
       "      <td>0.840813</td>\n",
       "      <td>0.834583</td>\n",
       "      <td>0.842378</td>\n",
       "      <td>0.009181</td>\n",
       "      <td>6</td>\n",
       "    </tr>\n",
       "    <tr>\n",
       "      <th>4</th>\n",
       "      <td>0.015093</td>\n",
       "      <td>0.001551</td>\n",
       "      <td>0.002211</td>\n",
       "      <td>0.000409</td>\n",
       "      <td>0.1</td>\n",
       "      <td>True</td>\n",
       "      <td>{'C': 0.1, 'fit_intercept': True}</td>\n",
       "      <td>0.831747</td>\n",
       "      <td>0.855465</td>\n",
       "      <td>0.851150</td>\n",
       "      <td>0.847037</td>\n",
       "      <td>0.836341</td>\n",
       "      <td>0.844348</td>\n",
       "      <td>0.008944</td>\n",
       "      <td>1</td>\n",
       "    </tr>\n",
       "    <tr>\n",
       "      <th>5</th>\n",
       "      <td>0.013992</td>\n",
       "      <td>0.001093</td>\n",
       "      <td>0.002012</td>\n",
       "      <td>0.000633</td>\n",
       "      <td>0.1</td>\n",
       "      <td>False</td>\n",
       "      <td>{'C': 0.1, 'fit_intercept': False}</td>\n",
       "      <td>0.831773</td>\n",
       "      <td>0.855456</td>\n",
       "      <td>0.851105</td>\n",
       "      <td>0.847019</td>\n",
       "      <td>0.836208</td>\n",
       "      <td>0.844312</td>\n",
       "      <td>0.008951</td>\n",
       "      <td>2</td>\n",
       "    </tr>\n",
       "    <tr>\n",
       "      <th>6</th>\n",
       "      <td>0.016338</td>\n",
       "      <td>0.002762</td>\n",
       "      <td>0.002209</td>\n",
       "      <td>0.000406</td>\n",
       "      <td>1</td>\n",
       "      <td>True</td>\n",
       "      <td>{'C': 1, 'fit_intercept': True}</td>\n",
       "      <td>0.831535</td>\n",
       "      <td>0.854874</td>\n",
       "      <td>0.851555</td>\n",
       "      <td>0.847196</td>\n",
       "      <td>0.836137</td>\n",
       "      <td>0.844259</td>\n",
       "      <td>0.008971</td>\n",
       "      <td>3</td>\n",
       "    </tr>\n",
       "    <tr>\n",
       "      <th>7</th>\n",
       "      <td>0.015510</td>\n",
       "      <td>0.000994</td>\n",
       "      <td>0.002023</td>\n",
       "      <td>0.000650</td>\n",
       "      <td>1</td>\n",
       "      <td>False</td>\n",
       "      <td>{'C': 1, 'fit_intercept': False}</td>\n",
       "      <td>0.831509</td>\n",
       "      <td>0.854733</td>\n",
       "      <td>0.851599</td>\n",
       "      <td>0.847240</td>\n",
       "      <td>0.836049</td>\n",
       "      <td>0.844226</td>\n",
       "      <td>0.008972</td>\n",
       "      <td>4</td>\n",
       "    </tr>\n",
       "  </tbody>\n",
       "</table>\n",
       "</div>"
      ],
      "text/plain": [
       "   mean_fit_time  std_fit_time  mean_score_time  std_score_time param_C  \\\n",
       "0       0.013607      0.001829         0.002797        0.000739   0.001   \n",
       "1       0.013919      0.001354         0.002396        0.000486   0.001   \n",
       "2       0.017669      0.002696         0.003090        0.000935    0.01   \n",
       "3       0.026632      0.010461         0.006587        0.007049    0.01   \n",
       "4       0.015093      0.001551         0.002211        0.000409     0.1   \n",
       "5       0.013992      0.001093         0.002012        0.000633     0.1   \n",
       "6       0.016338      0.002762         0.002209        0.000406       1   \n",
       "7       0.015510      0.000994         0.002023        0.000650       1   \n",
       "\n",
       "  param_fit_intercept                                params  \\\n",
       "0                True   {'C': 0.001, 'fit_intercept': True}   \n",
       "1               False  {'C': 0.001, 'fit_intercept': False}   \n",
       "2                True    {'C': 0.01, 'fit_intercept': True}   \n",
       "3               False   {'C': 0.01, 'fit_intercept': False}   \n",
       "4                True     {'C': 0.1, 'fit_intercept': True}   \n",
       "5               False    {'C': 0.1, 'fit_intercept': False}   \n",
       "6                True       {'C': 1, 'fit_intercept': True}   \n",
       "7               False      {'C': 1, 'fit_intercept': False}   \n",
       "\n",
       "   split0_test_score  split1_test_score  split2_test_score  split3_test_score  \\\n",
       "0           0.815746           0.849100           0.827921           0.819497   \n",
       "1           0.815887           0.849091           0.827947           0.819489   \n",
       "2           0.831605           0.856884           0.847941           0.840840   \n",
       "3           0.831605           0.856893           0.847994           0.840813   \n",
       "4           0.831747           0.855465           0.851150           0.847037   \n",
       "5           0.831773           0.855456           0.851105           0.847019   \n",
       "6           0.831535           0.854874           0.851555           0.847196   \n",
       "7           0.831509           0.854733           0.851599           0.847240   \n",
       "\n",
       "   split4_test_score  mean_test_score  std_test_score  rank_test_score  \n",
       "0           0.817785         0.826010        0.012265                8  \n",
       "1           0.817706         0.826024        0.012251                7  \n",
       "2           0.834707         0.842395        0.009150                5  \n",
       "3           0.834583         0.842378        0.009181                6  \n",
       "4           0.836341         0.844348        0.008944                1  \n",
       "5           0.836208         0.844312        0.008951                2  \n",
       "6           0.836137         0.844259        0.008971                3  \n",
       "7           0.836049         0.844226        0.008972                4  "
      ]
     },
     "execution_count": 56,
     "metadata": {},
     "output_type": "execute_result"
    }
   ],
   "source": [
    "# Model 1: Logistic Regression\n",
    "\n",
    "# Train and test a logistic regression model\n",
    "from sklearn.linear_model import LogisticRegression\n",
    "\n",
    "# Initialise the random forest model\n",
    "model = LogisticRegression(penalty=\"l2\", solver=\"liblinear\", class_weight=\"balanced\", random_state=1)\n",
    "# Set paramters for Grid Search\n",
    "param_grid = {\"C\": [0.001, 0.01, 0.1, 1], \"fit_intercept\": [True, False]}\n",
    "\n",
    "# Train model and get results\n",
    "Tuned_LogReg, Results_LogReg = model_pipeline(model, param_grid, X_train, y_train)\n",
    "\n",
    "Results_LogReg"
   ]
  },
  {
   "cell_type": "code",
   "execution_count": 57,
   "metadata": {},
   "outputs": [],
   "source": [
    "val_dict = df_val[categorical + numerical].to_dict(orient='records')\n",
    "X_val = dv.transform(val_dict)"
   ]
  },
  {
   "cell_type": "code",
   "execution_count": 58,
   "metadata": {},
   "outputs": [],
   "source": [
    "model = Tuned_LogReg"
   ]
  },
  {
   "cell_type": "code",
   "execution_count": 59,
   "metadata": {},
   "outputs": [
    {
     "data": {
      "text/plain": [
       "array([[0.54637744, 0.45362256],\n",
       "       [0.49385026, 0.50614974],\n",
       "       [0.44481904, 0.55518096],\n",
       "       ...,\n",
       "       [0.85740081, 0.14259919],\n",
       "       [0.19919673, 0.80080327],\n",
       "       [0.84628487, 0.15371513]])"
      ]
     },
     "execution_count": 59,
     "metadata": {},
     "output_type": "execute_result"
    }
   ],
   "source": [
    "model.predict_proba(X_val)"
   ]
  },
  {
   "cell_type": "code",
   "execution_count": 60,
   "metadata": {},
   "outputs": [],
   "source": [
    "y_pred = model.predict_proba(X_val)[:, 1]"
   ]
  },
  {
   "cell_type": "code",
   "execution_count": 61,
   "metadata": {},
   "outputs": [
    {
     "data": {
      "text/plain": [
       "array([0.45362256, 0.50614974, 0.55518096, ..., 0.14259919, 0.80080327,\n",
       "       0.15371513])"
      ]
     },
     "execution_count": 61,
     "metadata": {},
     "output_type": "execute_result"
    }
   ],
   "source": [
    "y_pred"
   ]
  },
  {
   "cell_type": "code",
   "execution_count": 62,
   "metadata": {},
   "outputs": [],
   "source": [
    "churn = y_pred > 0.5"
   ]
  },
  {
   "cell_type": "code",
   "execution_count": 63,
   "metadata": {},
   "outputs": [
    {
     "data": {
      "text/plain": [
       "0.7365591397849462"
      ]
     },
     "execution_count": 63,
     "metadata": {},
     "output_type": "execute_result"
    }
   ],
   "source": [
    "# Simple Accuracy Calculation\n",
    "(y_val == churn).mean()"
   ]
  },
  {
   "cell_type": "code",
   "execution_count": null,
   "metadata": {},
   "outputs": [],
   "source": [
    "import pickle\n",
    "with open('models/lin_reg.bin', 'wb') as f_out:\n",
    "    pickle.dump((dv, model), f_out)"
   ]
  }
 ],
 "metadata": {
  "kernelspec": {
   "display_name": "Python 3",
   "language": "python",
   "name": "python3"
  },
  "language_info": {
   "codemirror_mode": {
    "name": "ipython",
    "version": 3
   },
   "file_extension": ".py",
   "mimetype": "text/x-python",
   "name": "python",
   "nbconvert_exporter": "python",
   "pygments_lexer": "ipython3",
   "version": "3.9.16"
  },
  "orig_nbformat": 4
 },
 "nbformat": 4,
 "nbformat_minor": 2
}
